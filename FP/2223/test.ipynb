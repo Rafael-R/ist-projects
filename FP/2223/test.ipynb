{
 "cells": [
  {
   "cell_type": "markdown",
   "metadata": {},
   "source": [
    "Constantes"
   ]
  },
  {
   "cell_type": "code",
   "execution_count": 130,
   "metadata": {},
   "outputs": [],
   "source": [
    "v = {'A':12000, 'B':7500, 'C':5250, 'D':3000}\n",
    "n = 7\n",
    "info = {\n",
    "'Endor': {'deputados': 7, 'votos': {'A':12000, 'B':7500, 'C':5250, 'D':3000}},\n",
    "'Hoth': {'deputados': 6, 'votos': {'B':11500, 'A':9000, 'E':5000, 'D':1500}},\n",
    "'Tatooine': {'deputados': 3, 'votos': {'A':3000, 'B':1900}}}"
   ]
  },
  {
   "cell_type": "markdown",
   "metadata": {},
   "source": [
    "2.2.1 calcula_quocientes: dicionário × inteiro → dicionário"
   ]
  },
  {
   "cell_type": "code",
   "execution_count": 131,
   "metadata": {},
   "outputs": [
    {
     "data": {
      "text/plain": [
       "{'A': [12000.0, 6000.0, 4000.0, 3000.0, 2400.0, 2000.0, 1714.2857142857142],\n",
       " 'B': [7500.0, 3750.0, 2500.0, 1875.0, 1500.0, 1250.0, 1071.4285714285713],\n",
       " 'C': [5250.0, 2625.0, 1750.0, 1312.5, 1050.0, 875.0, 750.0],\n",
       " 'D': [3000.0, 1500.0, 1000.0, 750.0, 600.0, 500.0, 428.57142857142856]}"
      ]
     },
     "execution_count": 131,
     "metadata": {},
     "output_type": "execute_result"
    }
   ],
   "source": [
    "def calcula_quocientes(v, n):\n",
    "    quocientes = {}\n",
    "    for partido in v:\n",
    "        quocientes[partido] = []\n",
    "        for i in range(n):\n",
    "            quocientes[partido] += [v[partido] / (i + 1)]\n",
    "    return quocientes\n",
    "\n",
    "calcula_quocientes(v, n)"
   ]
  },
  {
   "cell_type": "markdown",
   "metadata": {},
   "source": [
    "2.2.2 atribui_mandatos: dicionário × inteiro → lista"
   ]
  },
  {
   "cell_type": "code",
   "execution_count": 132,
   "metadata": {},
   "outputs": [
    {
     "data": {
      "text/plain": [
       "['A', 'B', 'A', 'C', 'A', 'B', 'D']"
      ]
     },
     "execution_count": 132,
     "metadata": {},
     "output_type": "execute_result"
    }
   ],
   "source": [
    "def atribui_mandatos(v, n):\n",
    "    mandatos = []\n",
    "    quocientes = calcula_quocientes(v, n)\n",
    "    for i in range(n):\n",
    "        partidos = []\n",
    "        maiores_quocientes = []\n",
    "        for partido in quocientes:\n",
    "            partidos += [partido]\n",
    "            maiores_quocientes += [quocientes[partido][0]]\n",
    "        maior_quociente = max(maiores_quocientes)\n",
    "        index = []\n",
    "        for i in range(len(maiores_quocientes)):\n",
    "            if maiores_quocientes[i] == maior_quociente:\n",
    "                index += [i]\n",
    "        if len(index) == 1:\n",
    "            partido = partidos[index[0]]\n",
    "            mandatos += partido\n",
    "            quocientes[partido].remove(maior_quociente)\n",
    "        else:\n",
    "            votos = []\n",
    "            for i in index:\n",
    "                votos += [v[partidos[i]]]\n",
    "            menos_votos = min(votos)\n",
    "            for i in range(len(votos)):\n",
    "                if votos[i] == menos_votos:\n",
    "                    partido = partidos[index[i]]\n",
    "            mandatos += partido\n",
    "            quocientes[partido].remove(maior_quociente)\n",
    "    return mandatos\n",
    "\n",
    "atribui_mandatos(v, n)"
   ]
  },
  {
   "cell_type": "markdown",
   "metadata": {},
   "source": [
    "2.2.3 obtem partidos: dicionário → lista"
   ]
  },
  {
   "cell_type": "code",
   "execution_count": 133,
   "metadata": {},
   "outputs": [
    {
     "data": {
      "text/plain": [
       "['A', 'B', 'C', 'D', 'E']"
      ]
     },
     "execution_count": 133,
     "metadata": {},
     "output_type": "execute_result"
    }
   ],
   "source": [
    "def obtem_partidos(info):\n",
    "    partidos = []\n",
    "    for circulo in info:\n",
    "        for partido in info[circulo]['votos']:\n",
    "            if partido not in partidos:\n",
    "                partidos += [partido]\n",
    "    partidos.sort()\n",
    "    return partidos\n",
    "\n",
    "obtem_partidos(info)"
   ]
  },
  {
   "cell_type": "markdown",
   "metadata": {},
   "source": [
    "2.2.4 obtem resultado eleicoes: dicionário → lista"
   ]
  },
  {
   "cell_type": "code",
   "execution_count": 134,
   "metadata": {},
   "outputs": [
    {
     "data": {
      "text/plain": [
       "[('A', 7, 24000),\n",
       " ('B', 6, 20900),\n",
       " ('C', 1, 5250),\n",
       " ('E', 1, 5000),\n",
       " ('D', 1, 4500)]"
      ]
     },
     "execution_count": 134,
     "metadata": {},
     "output_type": "execute_result"
    }
   ],
   "source": [
    "def obtem_resultado_eleicoes(info):\n",
    "    partidos = obtem_partidos(info)\n",
    "    total_votos = {}\n",
    "    total_deputados = {}\n",
    "    for partido in partidos:\n",
    "        total_votos[partido] = 0\n",
    "        total_deputados[partido] = 0\n",
    "    for circulo in info:\n",
    "        deputados = info[circulo]['deputados']\n",
    "        votos = info[circulo]['votos']\n",
    "        for partido in votos:\n",
    "            total_votos[partido] += votos[partido]\n",
    "        mandatos = atribui_mandatos(votos, deputados)\n",
    "        for partido in mandatos:\n",
    "            total_deputados[partido] += 1\n",
    "    resultados = []\n",
    "    for partido in partidos:\n",
    "        resultados += [(partido, total_deputados[partido], total_votos[partido])]\n",
    "    resultados.sort(key = lambda x: x[1:3], reverse=True)\n",
    "    return resultados\n",
    "\n",
    "obtem_resultado_eleicoes(info)"
   ]
  }
 ],
 "metadata": {
  "kernelspec": {
   "display_name": "Python 3.8.10 64-bit",
   "language": "python",
   "name": "python3"
  },
  "language_info": {
   "codemirror_mode": {
    "name": "ipython",
    "version": 3
   },
   "file_extension": ".py",
   "mimetype": "text/x-python",
   "name": "python",
   "nbconvert_exporter": "python",
   "pygments_lexer": "ipython3",
   "version": "3.8.10"
  },
  "orig_nbformat": 4,
  "vscode": {
   "interpreter": {
    "hash": "916dbcbb3f70747c44a77c7bcd40155683ae19c65e1c03b4aa3499c5328201f1"
   }
  }
 },
 "nbformat": 4,
 "nbformat_minor": 2
}
